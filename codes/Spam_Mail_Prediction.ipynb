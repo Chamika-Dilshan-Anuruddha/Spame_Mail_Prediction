{
 "cells": [
  {
   "cell_type": "code",
   "execution_count": 5,
   "id": "56bf0176",
   "metadata": {},
   "outputs": [],
   "source": [
    "import numpy as np\n",
    "import pandas as pd\n",
    "from sklearn.model_selection import train_test_split\n",
    "from sklearn.feature_extraction.text import TfidfVectorizer\n",
    "from sklearn.linear_model import LogisticRegression\n",
    "from sklearn.metrics import accuracy_score"
   ]
  },
  {
   "cell_type": "code",
   "execution_count": 6,
   "id": "e3354131",
   "metadata": {},
   "outputs": [],
   "source": [
    "raw_mail_data = pd.read_csv(\"C:\\\\Users\\\\Anuruddha\\\\Desktop\\\\ML_projects\\\\17.Spame_Mail_Prediction\\\\database\\\\mail_data.csv\")"
   ]
  },
  {
   "cell_type": "code",
   "execution_count": 7,
   "id": "e2add386",
   "metadata": {
    "scrolled": true
   },
   "outputs": [
    {
     "data": {
      "text/html": [
       "<div>\n",
       "<style scoped>\n",
       "    .dataframe tbody tr th:only-of-type {\n",
       "        vertical-align: middle;\n",
       "    }\n",
       "\n",
       "    .dataframe tbody tr th {\n",
       "        vertical-align: top;\n",
       "    }\n",
       "\n",
       "    .dataframe thead th {\n",
       "        text-align: right;\n",
       "    }\n",
       "</style>\n",
       "<table border=\"1\" class=\"dataframe\">\n",
       "  <thead>\n",
       "    <tr style=\"text-align: right;\">\n",
       "      <th></th>\n",
       "      <th>Category</th>\n",
       "      <th>Message</th>\n",
       "    </tr>\n",
       "  </thead>\n",
       "  <tbody>\n",
       "    <tr>\n",
       "      <th>0</th>\n",
       "      <td>ham</td>\n",
       "      <td>Go until jurong point, crazy.. Available only ...</td>\n",
       "    </tr>\n",
       "    <tr>\n",
       "      <th>1</th>\n",
       "      <td>ham</td>\n",
       "      <td>Ok lar... Joking wif u oni...</td>\n",
       "    </tr>\n",
       "    <tr>\n",
       "      <th>2</th>\n",
       "      <td>spam</td>\n",
       "      <td>Free entry in 2 a wkly comp to win FA Cup fina...</td>\n",
       "    </tr>\n",
       "    <tr>\n",
       "      <th>3</th>\n",
       "      <td>ham</td>\n",
       "      <td>U dun say so early hor... U c already then say...</td>\n",
       "    </tr>\n",
       "    <tr>\n",
       "      <th>4</th>\n",
       "      <td>ham</td>\n",
       "      <td>Nah I don't think he goes to usf, he lives aro...</td>\n",
       "    </tr>\n",
       "  </tbody>\n",
       "</table>\n",
       "</div>"
      ],
      "text/plain": [
       "  Category                                            Message\n",
       "0      ham  Go until jurong point, crazy.. Available only ...\n",
       "1      ham                      Ok lar... Joking wif u oni...\n",
       "2     spam  Free entry in 2 a wkly comp to win FA Cup fina...\n",
       "3      ham  U dun say so early hor... U c already then say...\n",
       "4      ham  Nah I don't think he goes to usf, he lives aro..."
      ]
     },
     "execution_count": 7,
     "metadata": {},
     "output_type": "execute_result"
    }
   ],
   "source": [
    "raw_mail_data.head()"
   ]
  },
  {
   "cell_type": "markdown",
   "id": "a7927fa8",
   "metadata": {},
   "source": [
    "## Data Understand "
   ]
  },
  {
   "cell_type": "code",
   "execution_count": 10,
   "id": "1c5980a0",
   "metadata": {},
   "outputs": [],
   "source": [
    "# replace the null values with a null string\n",
    "\n",
    "mail_data = raw_mail_data.where(pd.notnull(raw_mail_data),'')"
   ]
  },
  {
   "cell_type": "code",
   "execution_count": 11,
   "id": "cd969342",
   "metadata": {},
   "outputs": [
    {
     "data": {
      "text/plain": [
       "Category    0\n",
       "Message     0\n",
       "dtype: int64"
      ]
     },
     "execution_count": 11,
     "metadata": {},
     "output_type": "execute_result"
    }
   ],
   "source": [
    "mail_data.isnull().sum()"
   ]
  },
  {
   "cell_type": "code",
   "execution_count": 12,
   "id": "0bcbc2a0",
   "metadata": {},
   "outputs": [
    {
     "name": "stdout",
     "output_type": "stream",
     "text": [
      "<class 'pandas.core.frame.DataFrame'>\n",
      "RangeIndex: 5572 entries, 0 to 5571\n",
      "Data columns (total 2 columns):\n",
      " #   Column    Non-Null Count  Dtype \n",
      "---  ------    --------------  ----- \n",
      " 0   Category  5572 non-null   object\n",
      " 1   Message   5572 non-null   object\n",
      "dtypes: object(2)\n",
      "memory usage: 87.2+ KB\n"
     ]
    }
   ],
   "source": [
    "mail_data.info()"
   ]
  },
  {
   "cell_type": "code",
   "execution_count": 13,
   "id": "fe40e7ec",
   "metadata": {
    "scrolled": true
   },
   "outputs": [
    {
     "data": {
      "text/plain": [
       "(5572, 2)"
      ]
     },
     "execution_count": 13,
     "metadata": {},
     "output_type": "execute_result"
    }
   ],
   "source": [
    "mail_data.shape"
   ]
  },
  {
   "cell_type": "markdown",
   "id": "d0b074de",
   "metadata": {},
   "source": [
    "## Data Preprocessing "
   ]
  },
  {
   "cell_type": "code",
   "execution_count": 16,
   "id": "64fcb16e",
   "metadata": {},
   "outputs": [],
   "source": [
    "# encoding\n",
    "\n",
    "mail_data.replace({'Category':{'spam':0, 'ham':1}}, inplace=True)\n",
    "\n",
    "# altranative method\n",
    "#mail_data.loc[mail_data['Category']=='spam', 'Category',]=0\n",
    "#mail_data.loc[mail_data['Category']=='ham', 'Category',]=1"
   ]
  },
  {
   "cell_type": "code",
   "execution_count": 17,
   "id": "861e51e7",
   "metadata": {},
   "outputs": [
    {
     "data": {
      "text/html": [
       "<div>\n",
       "<style scoped>\n",
       "    .dataframe tbody tr th:only-of-type {\n",
       "        vertical-align: middle;\n",
       "    }\n",
       "\n",
       "    .dataframe tbody tr th {\n",
       "        vertical-align: top;\n",
       "    }\n",
       "\n",
       "    .dataframe thead th {\n",
       "        text-align: right;\n",
       "    }\n",
       "</style>\n",
       "<table border=\"1\" class=\"dataframe\">\n",
       "  <thead>\n",
       "    <tr style=\"text-align: right;\">\n",
       "      <th></th>\n",
       "      <th>Category</th>\n",
       "      <th>Message</th>\n",
       "    </tr>\n",
       "  </thead>\n",
       "  <tbody>\n",
       "    <tr>\n",
       "      <th>0</th>\n",
       "      <td>1</td>\n",
       "      <td>Go until jurong point, crazy.. Available only ...</td>\n",
       "    </tr>\n",
       "    <tr>\n",
       "      <th>1</th>\n",
       "      <td>1</td>\n",
       "      <td>Ok lar... Joking wif u oni...</td>\n",
       "    </tr>\n",
       "    <tr>\n",
       "      <th>2</th>\n",
       "      <td>0</td>\n",
       "      <td>Free entry in 2 a wkly comp to win FA Cup fina...</td>\n",
       "    </tr>\n",
       "    <tr>\n",
       "      <th>3</th>\n",
       "      <td>1</td>\n",
       "      <td>U dun say so early hor... U c already then say...</td>\n",
       "    </tr>\n",
       "    <tr>\n",
       "      <th>4</th>\n",
       "      <td>1</td>\n",
       "      <td>Nah I don't think he goes to usf, he lives aro...</td>\n",
       "    </tr>\n",
       "  </tbody>\n",
       "</table>\n",
       "</div>"
      ],
      "text/plain": [
       "   Category                                            Message\n",
       "0         1  Go until jurong point, crazy.. Available only ...\n",
       "1         1                      Ok lar... Joking wif u oni...\n",
       "2         0  Free entry in 2 a wkly comp to win FA Cup fina...\n",
       "3         1  U dun say so early hor... U c already then say...\n",
       "4         1  Nah I don't think he goes to usf, he lives aro..."
      ]
     },
     "execution_count": 17,
     "metadata": {},
     "output_type": "execute_result"
    }
   ],
   "source": [
    "mail_data.head()"
   ]
  },
  {
   "cell_type": "markdown",
   "id": "d5f977e1",
   "metadata": {},
   "source": [
    "## Split Data "
   ]
  },
  {
   "cell_type": "code",
   "execution_count": 18,
   "id": "7aae1c79",
   "metadata": {},
   "outputs": [],
   "source": [
    "X = mail_data['Message']\n",
    "Y = mail_data['Category']"
   ]
  },
  {
   "cell_type": "code",
   "execution_count": 19,
   "id": "7ed79ec7",
   "metadata": {},
   "outputs": [
    {
     "name": "stdout",
     "output_type": "stream",
     "text": [
      "0       Go until jurong point, crazy.. Available only ...\n",
      "1                           Ok lar... Joking wif u oni...\n",
      "2       Free entry in 2 a wkly comp to win FA Cup fina...\n",
      "3       U dun say so early hor... U c already then say...\n",
      "4       Nah I don't think he goes to usf, he lives aro...\n",
      "                              ...                        \n",
      "5567    This is the 2nd time we have tried 2 contact u...\n",
      "5568                 Will ü b going to esplanade fr home?\n",
      "5569    Pity, * was in mood for that. So...any other s...\n",
      "5570    The guy did some bitching but I acted like i'd...\n",
      "5571                           Rofl. Its true to its name\n",
      "Name: Message, Length: 5572, dtype: object\n"
     ]
    }
   ],
   "source": [
    "print(X)"
   ]
  },
  {
   "cell_type": "code",
   "execution_count": 20,
   "id": "7e7a67ff",
   "metadata": {},
   "outputs": [
    {
     "name": "stdout",
     "output_type": "stream",
     "text": [
      "0       1\n",
      "1       1\n",
      "2       0\n",
      "3       1\n",
      "4       1\n",
      "       ..\n",
      "5567    0\n",
      "5568    1\n",
      "5569    1\n",
      "5570    1\n",
      "5571    1\n",
      "Name: Category, Length: 5572, dtype: int64\n"
     ]
    }
   ],
   "source": [
    "print(Y)"
   ]
  },
  {
   "cell_type": "code",
   "execution_count": 21,
   "id": "c069b5f8",
   "metadata": {},
   "outputs": [],
   "source": [
    "X_train, X_test, Y_train, Y_test = train_test_split(X, Y, stratify=Y, test_size=0.2, random_state=2)"
   ]
  },
  {
   "cell_type": "code",
   "execution_count": 22,
   "id": "df1efe67",
   "metadata": {},
   "outputs": [
    {
     "name": "stdout",
     "output_type": "stream",
     "text": [
      "(5572,) (4457,) (1115,)\n"
     ]
    }
   ],
   "source": [
    "print(X.shape, X_train.shape, X_test.shape)"
   ]
  },
  {
   "cell_type": "markdown",
   "id": "e0db89d5",
   "metadata": {},
   "source": [
    "## Feature extraction "
   ]
  },
  {
   "cell_type": "code",
   "execution_count": 24,
   "id": "6fd4ec1d",
   "metadata": {},
   "outputs": [],
   "source": [
    "# convert text ---> numerical values\n",
    "\n",
    "feature_extraction = TfidfVectorizer(min_df=1, stop_words='english', lowercase=True)"
   ]
  },
  {
   "cell_type": "code",
   "execution_count": 26,
   "id": "697dc799",
   "metadata": {},
   "outputs": [],
   "source": [
    "X_train_features = feature_extraction.fit_transform(X_train)\n",
    "X_test_features = feature_extraction.transform(X_test)"
   ]
  },
  {
   "cell_type": "code",
   "execution_count": 37,
   "id": "a0e1a082",
   "metadata": {},
   "outputs": [],
   "source": [
    "# if Y values as in strings then convert thme in to numbers (int) type\n",
    "Y_train = Y_train.astype('int')\n",
    "Y_test = Y_test.astype('int')"
   ]
  },
  {
   "cell_type": "code",
   "execution_count": 28,
   "id": "02222bd5",
   "metadata": {},
   "outputs": [
    {
     "name": "stdout",
     "output_type": "stream",
     "text": [
      "  (0, 7289)\t0.517250079608171\n",
      "  (0, 2823)\t0.517250079608171\n",
      "  (0, 3764)\t0.22046319970004674\n",
      "  (0, 2262)\t0.4931693086193514\n",
      "  (0, 7438)\t0.2996693624522655\n",
      "  (0, 4768)\t0.28858793133473676\n",
      "  (1, 4136)\t0.4717788963273522\n",
      "  (1, 6517)\t0.49481520325330863\n",
      "  (1, 1558)\t0.4236400720998954\n",
      "  (1, 4972)\t0.49481520325330863\n",
      "  (1, 3317)\t0.32904344933475643\n",
      "  (2, 5798)\t0.2821824162510531\n",
      "  (2, 3835)\t0.2623708342584191\n",
      "  (2, 4943)\t0.33789703751914013\n",
      "  (2, 5837)\t0.1845655907506494\n",
      "  (2, 1430)\t0.28509060215711635\n",
      "  (2, 6641)\t0.20096909705626312\n",
      "  (2, 3722)\t0.24768901862403342\n",
      "  (2, 3935)\t0.3671145612703168\n",
      "  (2, 3118)\t0.18009671431232455\n",
      "  (2, 4269)\t0.2543939099135892\n",
      "  (2, 3398)\t0.20665621299033204\n",
      "  (2, 2136)\t0.180851695270251\n",
      "  (2, 3086)\t0.27449720225122765\n",
      "  (2, 4099)\t0.186263215205624\n",
      "  :\t:\n",
      "  (4454, 5765)\t0.27366476899994313\n",
      "  (4454, 4205)\t0.27366476899994313\n",
      "  (4454, 6404)\t0.2834859847167938\n",
      "  (4454, 387)\t0.2598225428978842\n",
      "  (4454, 865)\t0.26604684225670366\n",
      "  (4454, 2972)\t0.2598225428978842\n",
      "  (4454, 6656)\t0.22854117433573515\n",
      "  (4454, 5362)\t0.20976307084423884\n",
      "  (4454, 2788)\t0.1933908630347447\n",
      "  (4454, 4477)\t0.226337885362124\n",
      "  (4454, 7449)\t0.2545599727746228\n",
      "  (4454, 6793)\t0.2084746488748568\n",
      "  (4454, 7413)\t0.2242682135068801\n",
      "  (4454, 1150)\t0.2598225428978842\n",
      "  (4454, 5753)\t0.226337885362124\n",
      "  (4454, 7163)\t0.15016127837290247\n",
      "  (4454, 3514)\t0.17954863693268575\n",
      "  (4454, 841)\t0.21705430485365426\n",
      "  (4455, 3045)\t0.6369939076061825\n",
      "  (4455, 6132)\t0.6072176947981238\n",
      "  (4455, 6694)\t0.4748951808522163\n",
      "  (4456, 6279)\t0.5478925290776959\n",
      "  (4456, 935)\t0.5478925290776959\n",
      "  (4456, 6115)\t0.4406487953685031\n",
      "  (4456, 3484)\t0.45327275707015463\n"
     ]
    }
   ],
   "source": [
    "print(X_train_features)"
   ]
  },
  {
   "cell_type": "markdown",
   "id": "f3ff29b6",
   "metadata": {},
   "source": [
    "## Model "
   ]
  },
  {
   "cell_type": "code",
   "execution_count": 29,
   "id": "2409f4b1",
   "metadata": {},
   "outputs": [],
   "source": [
    "model = LogisticRegression()"
   ]
  },
  {
   "cell_type": "code",
   "execution_count": 32,
   "id": "9e56620e",
   "metadata": {},
   "outputs": [
    {
     "data": {
      "text/plain": [
       "LogisticRegression()"
      ]
     },
     "execution_count": 32,
     "metadata": {},
     "output_type": "execute_result"
    }
   ],
   "source": [
    "model.fit(X_train_features, Y_train)"
   ]
  },
  {
   "cell_type": "code",
   "execution_count": 35,
   "id": "7d904dfc",
   "metadata": {},
   "outputs": [
    {
     "name": "stdout",
     "output_type": "stream",
     "text": [
      "accuracy on train data: 0.9672425398249944\n"
     ]
    }
   ],
   "source": [
    "# Evaluation\n",
    "\n",
    "# accuracy on train data\n",
    "\n",
    "predicting_train_data = model.predict(X_train_features)\n",
    "\n",
    "accuracy_of_train = accuracy_score(Y_train,predicting_trai_data )\n",
    "print(\"accuracy on train data:\", accuracy_of_train)"
   ]
  },
  {
   "cell_type": "code",
   "execution_count": 36,
   "id": "9df64633",
   "metadata": {},
   "outputs": [
    {
     "name": "stdout",
     "output_type": "stream",
     "text": [
      "accuracy on test data: 0.9704035874439462\n"
     ]
    }
   ],
   "source": [
    "# accuracy on train data\n",
    "\n",
    "predicting_test_data = model.predict(X_test_features)\n",
    "\n",
    "accuracy_of_test = accuracy_score(Y_test, predicting_test_data )\n",
    "print(\"accuracy on test data:\", accuracy_of_test)"
   ]
  },
  {
   "cell_type": "markdown",
   "id": "f5f81472",
   "metadata": {},
   "source": [
    "## Predictive System "
   ]
  },
  {
   "cell_type": "code",
   "execution_count": 40,
   "id": "e3607c68",
   "metadata": {},
   "outputs": [
    {
     "name": "stdout",
     "output_type": "stream",
     "text": [
      "Ham Mail\n"
     ]
    }
   ],
   "source": [
    "input_raw_data = [\"I'm gonna be home soon and i don't want to talk about this stuff anymore tonight, k? I've cried enough today.\"]\n",
    "\n",
    "input_data = feature_extraction.transform(input_raw_data) # feature extraction\n",
    "\n",
    "prediction  = model.predict(input_data)\n",
    "\n",
    "# 0: spam mail\n",
    "# 1: ham mail\n",
    "\n",
    "if prediction[0]==1:\n",
    "    print(\"Ham Mail\")\n",
    "else:\n",
    "    print(\"Spam Mail\")"
   ]
  },
  {
   "cell_type": "code",
   "execution_count": null,
   "id": "fb77ed21",
   "metadata": {},
   "outputs": [],
   "source": []
  }
 ],
 "metadata": {
  "kernelspec": {
   "display_name": "Python 3 (ipykernel)",
   "language": "python",
   "name": "python3"
  },
  "language_info": {
   "codemirror_mode": {
    "name": "ipython",
    "version": 3
   },
   "file_extension": ".py",
   "mimetype": "text/x-python",
   "name": "python",
   "nbconvert_exporter": "python",
   "pygments_lexer": "ipython3",
   "version": "3.8.16"
  }
 },
 "nbformat": 4,
 "nbformat_minor": 5
}
